{
 "cells": [
  {
   "cell_type": "markdown",
   "id": "595560c8",
   "metadata": {},
   "source": [
    "# Data Science Tools and Ecosystem"
   ]
  },
  {
   "cell_type": "markdown",
   "id": "fec5affe",
   "metadata": {},
   "source": [
    "In this notebook, Data Science Tools and Ecosystem are summarized."
   ]
  },
  {
   "cell_type": "markdown",
   "id": "a1f27397",
   "metadata": {},
   "source": [
    "## Objectives: \n",
    "<br>List<br>popular languages for Data Science<br>Libraries for data science <br>Data science tools <br>Basic Python expression"
   ]
  },
  {
   "cell_type": "markdown",
   "id": "0138c948",
   "metadata": {},
   "source": [
    "Some of the commonly used libraries used by Data Scientists include:<br>TensorFLow<br>Numpy<br>Pandas"
   ]
  },
  {
   "cell_type": "markdown",
   "id": "ee8d0428",
   "metadata": {},
   "source": [
    "Some of the popular languages that Data Scientists use are:<br>1-Python<br>2-R<br>3-JS"
   ]
  },
  {
   "cell_type": "markdown",
   "id": "a5491673",
   "metadata": {},
   "source": [
    "Data Science Tools<br>Tableau<br>Google Colab<br>Jupyter Notebook"
   ]
  },
  {
   "cell_type": "markdown",
   "id": "4da727ba",
   "metadata": {},
   "source": [
    "### Below are a few examples of evaluating arithmetic expressions in Python"
   ]
  },
  {
   "cell_type": "code",
   "execution_count": 1,
   "id": "ca3fd1e1",
   "metadata": {},
   "outputs": [
    {
     "data": {
      "text/plain": [
       "17"
      ]
     },
     "execution_count": 1,
     "metadata": {},
     "output_type": "execute_result"
    }
   ],
   "source": [
    "#This a simple arithmetic expression to mutiply then add integers\n",
    "(3*4)+5"
   ]
  },
  {
   "cell_type": "code",
   "execution_count": 2,
   "id": "b3282dda",
   "metadata": {},
   "outputs": [
    {
     "data": {
      "text/plain": [
       "12000"
      ]
     },
     "execution_count": 2,
     "metadata": {},
     "output_type": "execute_result"
    }
   ],
   "source": [
    "#This will convert 200 minutes to hours by diving by 60\n",
    "200*60"
   ]
  },
  {
   "cell_type": "markdown",
   "id": "4e0a5121",
   "metadata": {},
   "source": [
    "## Author\n",
    "Junaid"
   ]
  },
  {
   "cell_type": "code",
   "execution_count": null,
   "id": "469f27a2",
   "metadata": {},
   "outputs": [],
   "source": []
  }
 ],
 "metadata": {
  "kernelspec": {
   "display_name": "Python 3 (ipykernel)",
   "language": "python",
   "name": "python3"
  },
  "language_info": {
   "codemirror_mode": {
    "name": "ipython",
    "version": 3
   },
   "file_extension": ".py",
   "mimetype": "text/x-python",
   "name": "python",
   "nbconvert_exporter": "python",
   "pygments_lexer": "ipython3",
   "version": "3.8.10"
  }
 },
 "nbformat": 4,
 "nbformat_minor": 5
}
